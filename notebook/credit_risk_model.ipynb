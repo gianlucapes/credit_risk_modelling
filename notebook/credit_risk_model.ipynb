{
 "cells": [
  {
   "cell_type": "code",
   "execution_count": 6,
   "id": "c39232ec",
   "metadata": {},
   "outputs": [],
   "source": [
    "import pandas as pd\n",
    "import numpy as np\n",
    "from matplotlib import pyplot as pyplot\n",
    "from sklearn.model_selection import train_test_split\n",
    "\n",
    "pd.set_option(\"display.float_format\", lambda x : \"{:.2f}\".format(x))\n",
    "np.set_printoptions(suppress=True)"
   ]
  },
  {
   "cell_type": "code",
   "execution_count": 7,
   "id": "4fdf1c8f",
   "metadata": {},
   "outputs": [],
   "source": [
    "df_customers = pd.read_csv(\"../resources/customers.csv\")\n",
    "df_loans = pd.read_csv(\"../resources/loans.csv\")\n",
    "df_bureau = pd.read_csv(\"../resources/bureau_data.csv\")"
   ]
  },
  {
   "cell_type": "code",
   "execution_count": 9,
   "id": "23c01ada",
   "metadata": {},
   "outputs": [],
   "source": [
    "df=pd.merge(df_customers,df_loans,on=\"cust_id\")"
   ]
  },
  {
   "cell_type": "code",
   "execution_count": 10,
   "id": "8fff1c72",
   "metadata": {},
   "outputs": [
    {
     "data": {
      "text/html": [
       "<div>\n",
       "<style scoped>\n",
       "    .dataframe tbody tr th:only-of-type {\n",
       "        vertical-align: middle;\n",
       "    }\n",
       "\n",
       "    .dataframe tbody tr th {\n",
       "        vertical-align: top;\n",
       "    }\n",
       "\n",
       "    .dataframe thead th {\n",
       "        text-align: right;\n",
       "    }\n",
       "</style>\n",
       "<table border=\"1\" class=\"dataframe\">\n",
       "  <thead>\n",
       "    <tr style=\"text-align: right;\">\n",
       "      <th></th>\n",
       "      <th>cust_id</th>\n",
       "      <th>age</th>\n",
       "      <th>gender</th>\n",
       "      <th>marital_status</th>\n",
       "      <th>employment_status</th>\n",
       "      <th>income</th>\n",
       "      <th>number_of_dependants</th>\n",
       "      <th>residence_type</th>\n",
       "      <th>years_at_current_address</th>\n",
       "      <th>city</th>\n",
       "      <th>...</th>\n",
       "      <th>disbursal_date</th>\n",
       "      <th>installment_start_dt</th>\n",
       "      <th>default</th>\n",
       "      <th>number_of_open_accounts</th>\n",
       "      <th>number_of_closed_accounts</th>\n",
       "      <th>total_loan_months</th>\n",
       "      <th>delinquent_months</th>\n",
       "      <th>total_dpd</th>\n",
       "      <th>enquiry_count</th>\n",
       "      <th>credit_utilization_ratio</th>\n",
       "    </tr>\n",
       "  </thead>\n",
       "  <tbody>\n",
       "    <tr>\n",
       "      <th>0</th>\n",
       "      <td>C00001</td>\n",
       "      <td>44</td>\n",
       "      <td>M</td>\n",
       "      <td>Married</td>\n",
       "      <td>Self-Employed</td>\n",
       "      <td>2586000</td>\n",
       "      <td>3</td>\n",
       "      <td>Owned</td>\n",
       "      <td>27</td>\n",
       "      <td>Delhi</td>\n",
       "      <td>...</td>\n",
       "      <td>2019-07-24</td>\n",
       "      <td>2019-08-10</td>\n",
       "      <td>False</td>\n",
       "      <td>1</td>\n",
       "      <td>1</td>\n",
       "      <td>42</td>\n",
       "      <td>0</td>\n",
       "      <td>0</td>\n",
       "      <td>3</td>\n",
       "      <td>7</td>\n",
       "    </tr>\n",
       "    <tr>\n",
       "      <th>1</th>\n",
       "      <td>C00002</td>\n",
       "      <td>38</td>\n",
       "      <td>M</td>\n",
       "      <td>Married</td>\n",
       "      <td>Salaried</td>\n",
       "      <td>1206000</td>\n",
       "      <td>3</td>\n",
       "      <td>Owned</td>\n",
       "      <td>4</td>\n",
       "      <td>Chennai</td>\n",
       "      <td>...</td>\n",
       "      <td>2019-07-24</td>\n",
       "      <td>2019-08-15</td>\n",
       "      <td>False</td>\n",
       "      <td>3</td>\n",
       "      <td>1</td>\n",
       "      <td>96</td>\n",
       "      <td>12</td>\n",
       "      <td>60</td>\n",
       "      <td>5</td>\n",
       "      <td>4</td>\n",
       "    </tr>\n",
       "    <tr>\n",
       "      <th>2</th>\n",
       "      <td>C00003</td>\n",
       "      <td>46</td>\n",
       "      <td>F</td>\n",
       "      <td>Married</td>\n",
       "      <td>Self-Employed</td>\n",
       "      <td>2878000</td>\n",
       "      <td>3</td>\n",
       "      <td>Owned</td>\n",
       "      <td>24</td>\n",
       "      <td>Kolkata</td>\n",
       "      <td>...</td>\n",
       "      <td>2019-07-24</td>\n",
       "      <td>2019-08-21</td>\n",
       "      <td>False</td>\n",
       "      <td>2</td>\n",
       "      <td>1</td>\n",
       "      <td>82</td>\n",
       "      <td>24</td>\n",
       "      <td>147</td>\n",
       "      <td>6</td>\n",
       "      <td>58</td>\n",
       "    </tr>\n",
       "  </tbody>\n",
       "</table>\n",
       "<p>3 rows × 33 columns</p>\n",
       "</div>"
      ],
      "text/plain": [
       "  cust_id  age gender marital_status employment_status   income  \\\n",
       "0  C00001   44      M        Married     Self-Employed  2586000   \n",
       "1  C00002   38      M        Married          Salaried  1206000   \n",
       "2  C00003   46      F        Married     Self-Employed  2878000   \n",
       "\n",
       "   number_of_dependants residence_type  years_at_current_address     city  \\\n",
       "0                     3          Owned                        27    Delhi   \n",
       "1                     3          Owned                         4  Chennai   \n",
       "2                     3          Owned                        24  Kolkata   \n",
       "\n",
       "   ... disbursal_date  installment_start_dt default number_of_open_accounts  \\\n",
       "0  ...     2019-07-24            2019-08-10   False                       1   \n",
       "1  ...     2019-07-24            2019-08-15   False                       3   \n",
       "2  ...     2019-07-24            2019-08-21   False                       2   \n",
       "\n",
       "  number_of_closed_accounts  total_loan_months  delinquent_months  total_dpd  \\\n",
       "0                         1                 42                  0          0   \n",
       "1                         1                 96                 12         60   \n",
       "2                         1                 82                 24        147   \n",
       "\n",
       "   enquiry_count  credit_utilization_ratio  \n",
       "0              3                         7  \n",
       "1              5                         4  \n",
       "2              6                        58  \n",
       "\n",
       "[3 rows x 33 columns]"
      ]
     },
     "execution_count": 10,
     "metadata": {},
     "output_type": "execute_result"
    }
   ],
   "source": [
    "df=pd.merge(df,df_bureau)\n",
    "df.head(3)"
   ]
  },
  {
   "cell_type": "code",
   "execution_count": 11,
   "id": "4978ea43",
   "metadata": {},
   "outputs": [],
   "source": [
    "df[\"default\"]=df[\"default\"].astype(int)"
   ]
  },
  {
   "cell_type": "code",
   "execution_count": 12,
   "id": "a27f08a2",
   "metadata": {},
   "outputs": [
    {
     "data": {
      "text/plain": [
       "default\n",
       "0    45703\n",
       "1     4297\n",
       "Name: count, dtype: int64"
      ]
     },
     "execution_count": 12,
     "metadata": {},
     "output_type": "execute_result"
    }
   ],
   "source": [
    "df.default.value_counts()"
   ]
  },
  {
   "cell_type": "code",
   "execution_count": 13,
   "id": "1589496b",
   "metadata": {},
   "outputs": [],
   "source": [
    "X=df.drop(\"default\",axis=\"columns\")\n",
    "y=df['default']\n",
    "X_train,X_test,y_train,y_test=train_test_split(X,y,stratify=y,test_size=0.25,random_state=42)"
   ]
  },
  {
   "cell_type": "code",
   "execution_count": 14,
   "id": "1bbe56dd",
   "metadata": {},
   "outputs": [],
   "source": [
    "df_train=pd.concat([X_train,y_train],axis=\"columns\")\n",
    "df_test=pd.concat([X_test,y_test],axis=\"columns\")"
   ]
  },
  {
   "cell_type": "code",
   "execution_count": 15,
   "id": "f64a9dea",
   "metadata": {},
   "outputs": [
    {
     "data": {
      "text/plain": [
       "(37500, 33)"
      ]
     },
     "execution_count": 15,
     "metadata": {},
     "output_type": "execute_result"
    }
   ],
   "source": [
    "df_train.shape"
   ]
  },
  {
   "cell_type": "code",
   "execution_count": null,
   "id": "12df6dd4",
   "metadata": {},
   "outputs": [],
   "source": []
  }
 ],
 "metadata": {
  "kernelspec": {
   "display_name": ".venv",
   "language": "python",
   "name": "python3"
  },
  "language_info": {
   "codemirror_mode": {
    "name": "ipython",
    "version": 3
   },
   "file_extension": ".py",
   "mimetype": "text/x-python",
   "name": "python",
   "nbconvert_exporter": "python",
   "pygments_lexer": "ipython3",
   "version": "3.13.3"
  }
 },
 "nbformat": 4,
 "nbformat_minor": 5
}
